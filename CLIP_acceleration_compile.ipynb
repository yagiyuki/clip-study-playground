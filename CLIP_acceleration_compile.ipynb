{
  "nbformat": 4,
  "nbformat_minor": 0,
  "metadata": {
    "colab": {
      "provenance": [],
      "gpuType": "T4",
      "authorship_tag": "ABX9TyPcm55tJBFs+cHpiKv59LYf",
      "include_colab_link": true
    },
    "kernelspec": {
      "name": "python3",
      "display_name": "Python 3"
    },
    "language_info": {
      "name": "python"
    },
    "accelerator": "GPU"
  },
  "cells": [
    {
      "cell_type": "markdown",
      "metadata": {
        "id": "view-in-github",
        "colab_type": "text"
      },
      "source": [
        "<a href=\"https://colab.research.google.com/github/yagiyuki/clip-study-playground/blob/main/CLIP_acceleration_compile.ipynb\" target=\"_parent\"><img src=\"https://colab.research.google.com/assets/colab-badge.svg\" alt=\"Open In Colab\"/></a>"
      ]
    },
    {
      "cell_type": "markdown",
      "source": [
        "# CLIPで大量に画像分類するときの高速化実装の工夫"
      ],
      "metadata": {
        "id": "8nlJuzTc6fmj"
      }
    },
    {
      "cell_type": "code",
      "execution_count": 4,
      "metadata": {
        "id": "1hv216fAWq5O",
        "collapsed": true
      },
      "outputs": [],
      "source": [
        "%%bash\n",
        "# 画像を管理するパスを作成\n",
        "mkdir -p data\n",
        "\n",
        "# dataディレクトリにsample.jpegと言う名前で画像ファイルを上げる"
      ]
    },
    {
      "cell_type": "code",
      "source": [
        "%%bash\n",
        "# 画像を999枚複製（合計1000枚）\n",
        "for i in {1..999}; do\n",
        "  cp data/sample.jpeg data/sample_${i}.jpeg\n",
        "done"
      ],
      "metadata": {
        "id": "-7Hnv3qOK3rr"
      },
      "execution_count": 5,
      "outputs": []
    },
    {
      "cell_type": "markdown",
      "source": [
        "## 特に工夫なしの場合"
      ],
      "metadata": {
        "id": "qfLTgBHX6t-m"
      }
    },
    {
      "cell_type": "code",
      "source": [
        "%%time\n",
        "\n",
        "import io\n",
        "import requests\n",
        "from PIL import Image\n",
        "import torch\n",
        "from transformers import AutoImageProcessor, AutoModel, AutoTokenizer\n",
        "import glob\n",
        "\n",
        "# デバイス設定（そのままFP32, コンパイルなし）\n",
        "device = 'cuda' if torch.cuda.is_available() else 'cpu'\n",
        "HF_MODEL_PATH = 'line-corporation/clip-japanese-base'\n",
        "\n",
        "# トークナイザ／プロセッサ／モデルの読み込み（標準設定）\n",
        "tokenizer = AutoTokenizer.from_pretrained(HF_MODEL_PATH, trust_remote_code=True)\n",
        "processor = AutoImageProcessor.from_pretrained(HF_MODEL_PATH, trust_remote_code=True)\n",
        "model = AutoModel.from_pretrained(HF_MODEL_PATH, trust_remote_code=True).to(device)\n",
        "\n",
        "# 画像ファイルのリストを取得\n",
        "image_list = glob.glob('data/*')"
      ],
      "metadata": {
        "colab": {
          "base_uri": "https://localhost:8080/"
        },
        "id": "Is7rMLBS6SUE",
        "outputId": "b8662dd5-891d-44d5-d028-a78ebff192b3"
      },
      "execution_count": 3,
      "outputs": [
        {
          "output_type": "stream",
          "name": "stdout",
          "text": [
            "CPU times: user 1.25 s, sys: 69.2 ms, total: 1.32 s\n",
            "Wall time: 3.7 s\n"
          ]
        }
      ]
    },
    {
      "cell_type": "code",
      "source": [
        "%%time\n",
        "\n",
        "# 各画像ごとに（バッチもAMPも事前計算もなしで）処理\n",
        "for image_path in image_list:\n",
        "    # テキストをその都度トークナイズ\n",
        "    text_inputs = tokenizer(\n",
        "        [\"ベンチプレス\", \"スクワット\", \"デッドリフト\"]\n",
        "    ).to(device)\n",
        "\n",
        "    # 画像を読み込んで前処理\n",
        "    image = Image.open(image_path).convert(\"RGB\")\n",
        "    inputs = processor(images=[image], return_tensors=\"pt\").to(device)\n",
        "\n",
        "    with torch.no_grad():\n",
        "        # テキスト特徴量を毎回計算\n",
        "        text_features = model.get_text_features(**text_inputs)  # FP32\n",
        "\n",
        "        # 画像特徴量を毎回計算\n",
        "        image_features = model.get_image_features(inputs.pixel_values)  # FP32\n",
        "\n",
        "        # 類似度計算・確率化\n",
        "        text_probs = (image_features @ text_features.T).softmax(dim=-1)\n",
        "\n",
        "    # 結果表示\n",
        "    #print(f'Label probs of {image_path}:', text_probs)\n"
      ],
      "metadata": {
        "colab": {
          "base_uri": "https://localhost:8080/"
        },
        "id": "zrYwoXgLLEPc",
        "outputId": "92fb4ec3-181c-4b6c-8a77-9affa9c84579"
      },
      "execution_count": 4,
      "outputs": [
        {
          "output_type": "stream",
          "name": "stdout",
          "text": [
            "CPU times: user 42.8 s, sys: 389 ms, total: 43.2 s\n",
            "Wall time: 46.9 s\n"
          ]
        }
      ]
    },
    {
      "cell_type": "markdown",
      "source": [
        "## torch.compileによるモデル最適化"
      ],
      "metadata": {
        "id": "lzoJ4ufK_tnA"
      }
    },
    {
      "cell_type": "code",
      "source": [
        "%%time\n",
        "import glob\n",
        "import torch\n",
        "from PIL import Image\n",
        "from transformers import AutoImageProcessor, AutoModel, AutoTokenizer\n",
        "\n",
        "# デバイス設定\n",
        "device = 'cuda' if torch.cuda.is_available() else 'cpu'\n",
        "HF_MODEL_PATH = 'line-corporation/clip-japanese-base'\n",
        "\n",
        "# モデル読み込み＋コンパイル\n",
        "tokenizer = AutoTokenizer.from_pretrained(HF_MODEL_PATH, trust_remote_code=True)\n",
        "processor = AutoImageProcessor.from_pretrained(HF_MODEL_PATH, trust_remote_code=True)\n",
        "model = AutoModel.from_pretrained(HF_MODEL_PATH, trust_remote_code=True).to(device)\n",
        "model = torch.compile(model)  # 追加"
      ],
      "metadata": {
        "colab": {
          "base_uri": "https://localhost:8080/"
        },
        "id": "TYSOqyRf_sC3",
        "outputId": "8b1256fe-17b1-4db1-92cd-52b4feaf6ff1"
      },
      "execution_count": 5,
      "outputs": [
        {
          "output_type": "stream",
          "name": "stdout",
          "text": [
            "CPU times: user 3.4 s, sys: 125 ms, total: 3.52 s\n",
            "Wall time: 5.87 s\n"
          ]
        }
      ]
    },
    {
      "cell_type": "code",
      "source": [
        "%%time\n",
        "# 単純な推論ループ\n",
        "with torch.no_grad():\n",
        "    text = tokenizer([\"ベンチプレス\", \"スクワット\", \"デッドリフト\"]).to(device)\n",
        "    for path in glob.glob('data/*'):\n",
        "        img = Image.open(path).convert(\"RGB\")\n",
        "        inputs = processor(images=[img], return_tensors=\"pt\").to(device)\n",
        "\n",
        "        # 毎回テキスト特徴量を計算\n",
        "        text_feats = model.get_text_features(**text)\n",
        "        img_feats  = model.get_image_features(inputs.pixel_values)\n",
        "        probs = (img_feats @ text_feats.T).softmax(dim=-1)\n",
        "        #print(path, probs)"
      ],
      "metadata": {
        "colab": {
          "base_uri": "https://localhost:8080/"
        },
        "id": "Mr6cyLTpLX1g",
        "outputId": "4bccd1fb-91a2-4963-f387-f152e5131a75"
      },
      "execution_count": 6,
      "outputs": [
        {
          "output_type": "stream",
          "name": "stdout",
          "text": [
            "CPU times: user 40.1 s, sys: 174 ms, total: 40.3 s\n",
            "Wall time: 42 s\n"
          ]
        }
      ]
    }
  ]
}