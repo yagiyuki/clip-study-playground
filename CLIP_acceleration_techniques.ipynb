{
  "nbformat": 4,
  "nbformat_minor": 0,
  "metadata": {
    "colab": {
      "provenance": [],
      "gpuType": "T4",
      "include_colab_link": true
    },
    "kernelspec": {
      "name": "python3",
      "display_name": "Python 3"
    },
    "language_info": {
      "name": "python"
    },
    "accelerator": "GPU"
  },
  "cells": [
    {
      "cell_type": "markdown",
      "metadata": {
        "id": "view-in-github",
        "colab_type": "text"
      },
      "source": [
        "<a href=\"https://colab.research.google.com/github/yagiyuki/clip-study-playground/blob/main/CLIP_acceleration_techniques.ipynb\" target=\"_parent\"><img src=\"https://colab.research.google.com/assets/colab-badge.svg\" alt=\"Open In Colab\"/></a>"
      ]
    },
    {
      "cell_type": "markdown",
      "source": [
        "# CLIPで大量に画像分類するときの高速化実装の工夫"
      ],
      "metadata": {
        "id": "8nlJuzTc6fmj"
      }
    },
    {
      "cell_type": "code",
      "execution_count": 1,
      "metadata": {
        "id": "1hv216fAWq5O",
        "collapsed": true
      },
      "outputs": [],
      "source": [
        "%%bash\n",
        "# 画像を管理するパスを作成\n",
        "mkdir -p data\n",
        "\n",
        "# dataディレクトリにsample.jpegと言う名前で画像ファイルを上げる"
      ]
    },
    {
      "cell_type": "code",
      "source": [
        "%%bash\n",
        "# 画像を999枚複製（合計1000枚）\n",
        "for i in {1..999}; do\n",
        "  cp data/sample.jpeg data/sample_${i}.jpeg\n",
        "done"
      ],
      "metadata": {
        "id": "9UPSMq_0XgPh"
      },
      "execution_count": 2,
      "outputs": []
    },
    {
      "cell_type": "markdown",
      "source": [
        "## ベースライン"
      ],
      "metadata": {
        "id": "qfLTgBHX6t-m"
      }
    },
    {
      "cell_type": "code",
      "source": [
        "%%time\n",
        "import glob\n",
        "import torch\n",
        "from PIL import Image\n",
        "from transformers import AutoImageProcessor, AutoModel, AutoTokenizer\n",
        "\n",
        "# デバイス設定\n",
        "device = 'cuda' if torch.cuda.is_available() else 'cpu'\n",
        "HF_MODEL_PATH = 'line-corporation/clip-japanese-base'\n",
        "\n",
        "# モデル読み込み\n",
        "tokenizer = AutoTokenizer.from_pretrained(HF_MODEL_PATH, trust_remote_code=True)\n",
        "processor = AutoImageProcessor.from_pretrained(HF_MODEL_PATH, trust_remote_code=True)\n",
        "model = AutoModel.from_pretrained(HF_MODEL_PATH, trust_remote_code=True).to(device)\n",
        "\n",
        "# 単純な推論ループ\n",
        "with torch.no_grad():\n",
        "    text = tokenizer([\"ベンチプレス\", \"スクワット\", \"デッドリフト\"]).to(device)\n",
        "    text_feats = model.get_text_features(**text)\n",
        "    for path in glob.glob('data/*'):\n",
        "        img = Image.open(path).convert(\"RGB\")\n",
        "        inputs = processor(images=[img], return_tensors=\"pt\").to(device)\n",
        "\n",
        "        # テキスト特徴量を計算\n",
        "        img_feats  = model.get_image_features(inputs.pixel_values)\n",
        "        probs = (img_feats @ text_feats.T).softmax(dim=-1)\n",
        "        #print(path, probs)"
      ],
      "metadata": {
        "colab": {
          "base_uri": "https://localhost:8080/"
        },
        "id": "Is7rMLBS6SUE",
        "outputId": "cb22d1ac-a1a8-48cf-bef5-36f15ac571c5"
      },
      "execution_count": 5,
      "outputs": [
        {
          "output_type": "stream",
          "name": "stdout",
          "text": [
            "CPU times: user 31.3 s, sys: 180 ms, total: 31.5 s\n",
            "Wall time: 34.6 s\n"
          ]
        }
      ]
    },
    {
      "cell_type": "markdown",
      "source": [
        "##【工夫ポイント1】torch.compileによるモデル最適化"
      ],
      "metadata": {
        "id": "lzoJ4ufK_tnA"
      }
    },
    {
      "cell_type": "code",
      "source": [
        "%%time\n",
        "import glob\n",
        "import torch\n",
        "from PIL import Image\n",
        "from transformers import AutoImageProcessor, AutoModel, AutoTokenizer\n",
        "\n",
        "# デバイス設定\n",
        "device = 'cuda' if torch.cuda.is_available() else 'cpu'\n",
        "HF_MODEL_PATH = 'line-corporation/clip-japanese-base'\n",
        "\n",
        "# モデル読み込み\n",
        "tokenizer = AutoTokenizer.from_pretrained(HF_MODEL_PATH, trust_remote_code=True)\n",
        "processor = AutoImageProcessor.from_pretrained(HF_MODEL_PATH, trust_remote_code=True)\n",
        "model = AutoModel.from_pretrained(HF_MODEL_PATH, trust_remote_code=True).to(device)\n",
        "# コンパイルして最適化\n",
        "model = torch.compile(model)\n",
        "\n",
        "# 単純な推論ループ\n",
        "with torch.no_grad():\n",
        "    text = tokenizer([\"ベンチプレス\", \"スクワット\", \"デッドリフト\"]).to(device)\n",
        "    text_feats = model.get_text_features(**text)\n",
        "    for path in glob.glob('data/*'):\n",
        "        img = Image.open(path).convert(\"RGB\")\n",
        "        inputs = processor(images=[img], return_tensors=\"pt\").to(device)\n",
        "\n",
        "        # テキスト特徴量を計算\n",
        "        img_feats  = model.get_image_features(inputs.pixel_values)\n",
        "        probs = (img_feats @ text_feats.T).softmax(dim=-1)\n",
        "        #print(path, probs)"
      ],
      "metadata": {
        "colab": {
          "base_uri": "https://localhost:8080/"
        },
        "id": "TYSOqyRf_sC3",
        "outputId": "a6686dad-41fd-4a54-8c0c-29c94621905a"
      },
      "execution_count": 6,
      "outputs": [
        {
          "output_type": "stream",
          "name": "stdout",
          "text": [
            "CPU times: user 36.2 s, sys: 312 ms, total: 36.5 s\n",
            "Wall time: 39.1 s\n"
          ]
        }
      ]
    },
    {
      "cell_type": "markdown",
      "source": [
        "##【工夫ポイント2】torch.cuda.amp.autocastによる混合精度推論"
      ],
      "metadata": {
        "id": "32NtEuJW_25E"
      }
    },
    {
      "cell_type": "code",
      "source": [
        "%%time\n",
        "import glob\n",
        "import torch\n",
        "from PIL import Image\n",
        "from transformers import AutoImageProcessor, AutoModel, AutoTokenizer\n",
        "\n",
        "device = 'cuda' if torch.cuda.is_available() else 'cpu'\n",
        "HF_MODEL_PATH = 'line-corporation/clip-japanese-base'\n",
        "\n",
        "tokenizer = AutoTokenizer.from_pretrained(HF_MODEL_PATH, trust_remote_code=True)\n",
        "processor = AutoImageProcessor.from_pretrained(HF_MODEL_PATH, trust_remote_code=True)\n",
        "model = AutoModel.from_pretrained(HF_MODEL_PATH, trust_remote_code=True).to(device)\n",
        "\n",
        "with torch.no_grad():\n",
        "    text = tokenizer([\"ベンチプレス\", \"スクワット\", \"デッドリフト\"]).to(device)\n",
        "    # テキスト特徴量をFP16に変換\n",
        "    text_feats = model.get_text_features(**text).half()\n",
        "\n",
        "    for path in glob.glob('data/*'):\n",
        "        img = Image.open(path).convert(\"RGB\")\n",
        "        inputs = processor(images=[img], return_tensors=\"pt\").to(device)\n",
        "\n",
        "        # autocastによるFP16混合精度\n",
        "        with torch.cuda.amp.autocast():\n",
        "            img_feats = model.get_image_features(inputs.pixel_values)\n",
        "\n",
        "        probs = (img_feats @ text_feats.T).softmax(dim=-1)\n",
        "        #print(path, probs)\n"
      ],
      "metadata": {
        "colab": {
          "base_uri": "https://localhost:8080/"
        },
        "id": "ad4VojnBADre",
        "outputId": "fba36c5d-8b7f-4cda-ea03-0471aadf3f85"
      },
      "execution_count": 7,
      "outputs": [
        {
          "output_type": "stream",
          "name": "stderr",
          "text": [
            "<timed exec>:23: FutureWarning: `torch.cuda.amp.autocast(args...)` is deprecated. Please use `torch.amp.autocast('cuda', args...)` instead.\n"
          ]
        },
        {
          "output_type": "stream",
          "name": "stdout",
          "text": [
            "CPU times: user 35.7 s, sys: 253 ms, total: 35.9 s\n",
            "Wall time: 38.2 s\n"
          ]
        }
      ]
    },
    {
      "cell_type": "markdown",
      "source": [
        "## 【工夫ポイント3】バッチ処理による転送・呼び出し回数の削減"
      ],
      "metadata": {
        "id": "hzPiubgz_3vG"
      }
    },
    {
      "cell_type": "code",
      "source": [
        "%%time\n",
        "import glob\n",
        "import torch\n",
        "from PIL import Image\n",
        "from transformers import AutoImageProcessor, AutoModel, AutoTokenizer\n",
        "\n",
        "device = 'cuda' if torch.cuda.is_available() else 'cpu'\n",
        "HF_MODEL_PATH = 'line-corporation/clip-japanese-base'\n",
        "batch_size = 50\n",
        "\n",
        "tokenizer = AutoTokenizer.from_pretrained(HF_MODEL_PATH, trust_remote_code=True)\n",
        "processor = AutoImageProcessor.from_pretrained(HF_MODEL_PATH, trust_remote_code=True)\n",
        "model = AutoModel.from_pretrained(HF_MODEL_PATH, trust_remote_code=True).to(device)\n",
        "\n",
        "with torch.no_grad():\n",
        "    text = tokenizer([\"ベンチプレス\", \"スクワット\", \"デッドリフト\"]).to(device)\n",
        "    text_feats = model.get_text_features(**text)\n",
        "\n",
        "    image_paths = glob.glob('data/*')\n",
        "    for i in range(0, len(image_paths), batch_size):\n",
        "        # ここだけが追加：複数画像を一度に処理\n",
        "        batch = image_paths[i:i+batch_size]\n",
        "        imgs = [Image.open(p).convert(\"RGB\") for p in batch]\n",
        "        inputs = processor(images=imgs, return_tensors=\"pt\").to(device)\n",
        "\n",
        "        img_feats = model.get_image_features(inputs.pixel_values)\n",
        "\n",
        "        probs = (img_feats @ text_feats.T).softmax(dim=-1)\n",
        "        #for path, p in zip(batch, probs):\n",
        "        #    print(path, p)"
      ],
      "metadata": {
        "id": "GrYnjbdFARkz",
        "colab": {
          "base_uri": "https://localhost:8080/"
        },
        "outputId": "87c1752c-3a4f-4644-810f-600601e8878b"
      },
      "execution_count": 8,
      "outputs": [
        {
          "output_type": "stream",
          "name": "stdout",
          "text": [
            "CPU times: user 17.2 s, sys: 328 ms, total: 17.5 s\n",
            "Wall time: 19.6 s\n"
          ]
        }
      ]
    },
    {
      "cell_type": "markdown",
      "source": [
        "## 3つの工夫をした場合"
      ],
      "metadata": {
        "id": "nKqkpPGL6zm4"
      }
    },
    {
      "cell_type": "code",
      "source": [
        "%%time\n",
        "\n",
        "import io\n",
        "import requests\n",
        "from PIL import Image\n",
        "import torch\n",
        "from transformers import AutoImageProcessor, AutoModel, AutoTokenizer\n",
        "import glob\n",
        "\n",
        "# デバイス設定\n",
        "device = 'cuda' if torch.cuda.is_available() else 'cpu'\n",
        "HF_MODEL_PATH = 'line-corporation/clip-japanese-base'\n",
        "\n",
        "# トークナイザ／プロセッサ／モデルの読み込み\n",
        "tokenizer = AutoTokenizer.from_pretrained(HF_MODEL_PATH, trust_remote_code=True)\n",
        "processor = AutoImageProcessor.from_pretrained(HF_MODEL_PATH, trust_remote_code=True)\n",
        "model = AutoModel.from_pretrained(HF_MODEL_PATH, trust_remote_code=True).to(device)\n",
        "\n",
        "# ─────── 高速化の工夫ポイント1 ───────\n",
        "# torch.compile でモデルをグラフ化＆最適化し、繰り返し推論のオーバーヘッドを削減\n",
        "model = torch.compile(model)\n",
        "\n",
        "# テキストをトークン化（ループ外で一度だけ行う）\n",
        "text = tokenizer(\n",
        "    [\"ベンチプレス\", \"スクワット\", \"デッドリフト\"]\n",
        ").to(device)\n",
        "\n",
        "# 画像ファイルのリストを取得\n",
        "image_list = glob.glob('data/*')\n",
        "batch_size = 50\n",
        "\n",
        "with torch.no_grad():\n",
        "    # ─────── 高速化の工夫ポイント2 ───────\n",
        "    # テキスト特徴量をループ前に事前計算し、毎バッチ再計算を避ける\n",
        "    text_features = model.get_text_features(**text)\n",
        "    # ─────── 型合わせ対策 ───────\n",
        "    # image_features が FP16 なので、text_features も FP16 にキャスト\n",
        "    text_features = text_features.half()\n",
        "\n",
        "    for i in range(0, len(image_list), batch_size):\n",
        "        batch_image_list = image_list[i:i+batch_size]\n",
        "\n",
        "        # ─────── 高速化の工夫ポイント4 ───────\n",
        "        # バッチ処理により、CPU⇔GPU転送回数とモデル呼び出し回数を削減\n",
        "        images = [Image.open(p).convert(\"RGB\") for p in batch_image_list]\n",
        "        inputs = processor(images=images, return_tensors=\"pt\").to(device)\n",
        "\n",
        "        # ─────── 高速化の工夫ポイント3 ───────\n",
        "        # torch.cuda.amp.autocast() を使い、FP16混合精度で演算スループットを向上\n",
        "        with torch.cuda.amp.autocast():\n",
        "            image_features = model.get_image_features(inputs.pixel_values)\n",
        "\n",
        "        # FP16 同士なので内積計算がエラーなく実行可能\n",
        "        text_probs = (image_features @ text_features.T).softmax(dim=-1)\n",
        "\n",
        "        # 各画像のラベル確率を表示\n",
        "        #for image_path, probs in zip(batch_image_list, text_probs):\n",
        "        #    print(f'Label probs of {image_path}:', probs)\n"
      ],
      "metadata": {
        "id": "WxGeHRVSWxrZ",
        "colab": {
          "base_uri": "https://localhost:8080/"
        },
        "outputId": "6773da01-5291-424c-e54e-e21c4466a836"
      },
      "execution_count": 9,
      "outputs": [
        {
          "output_type": "stream",
          "name": "stderr",
          "text": [
            "<timed exec>:48: FutureWarning: `torch.cuda.amp.autocast(args...)` is deprecated. Please use `torch.amp.autocast('cuda', args...)` instead.\n"
          ]
        },
        {
          "output_type": "stream",
          "name": "stdout",
          "text": [
            "CPU times: user 17.5 s, sys: 248 ms, total: 17.7 s\n",
            "Wall time: 19.9 s\n"
          ]
        }
      ]
    },
    {
      "cell_type": "code",
      "source": [
        "%%bash\n",
        "free -h\n",
        "\n"
      ],
      "metadata": {
        "id": "U010C3AZLhvU"
      },
      "execution_count": null,
      "outputs": []
    },
    {
      "cell_type": "code",
      "source": [],
      "metadata": {
        "id": "-6LdTgCbLiqT"
      },
      "execution_count": null,
      "outputs": []
    }
  ]
}